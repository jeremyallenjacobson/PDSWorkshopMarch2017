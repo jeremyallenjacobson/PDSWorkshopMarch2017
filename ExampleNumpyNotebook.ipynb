{
 "cells": [
  {
   "cell_type": "markdown",
   "metadata": {
    "nbpresent": {
     "id": "246b1310-de7b-408d-aa4d-dd716061dbd2"
    },
    "slideshow": {
     "slide_type": "slide"
    }
   },
   "source": [
    "#### <p style=\"text-align: center; \"> PDS part Two </p>\n",
    "# <p style=\"text-align: center;\"> *Example Numpy/Matplotlib Notebook* </p>\n",
    "---\n",
    " \n",
    " "
   ]
  },
  {
   "cell_type": "markdown",
   "metadata": {
    "nbpresent": {
     "id": "e3197990-d3f8-4c9a-a1e8-8077a66b1c65"
    },
    "slideshow": {
     "slide_type": "slide"
    }
   },
   "source": [
    "## Python project: Zeros of polynomials with 0,1 coefficients\n",
    "\n",
    "$$ a_n z^n +  a_{n-1}z^{n-1} + \\cdots + a_1 z^1 + a_0=0\\\\$$ \n",
    "$$a_i\\in \\{0,1\\}$$"
   ]
  },
  {
   "cell_type": "markdown",
   "metadata": {
    "nbpresent": {
     "id": "3e45de2d-701f-4ff3-9336-43ef48fccf4e"
    },
    "slideshow": {
     "slide_type": "slide"
    }
   },
   "source": [
    "## Python project: additional references\n",
    "* \"A Digital Slice of Pi\", W. Wayt Gibbs. *Scientific American Magazine*, May 2003.\n",
    "* https://johncarlosbaez.wordpress.com/2011/12/11/the-beauty-of-roots/ (blog)\n"
   ]
  },
  {
   "cell_type": "markdown",
   "metadata": {
    "slideshow": {
     "slide_type": "subslide"
    }
   },
   "source": [
    "## What are zeros $z=x+iy$ of polynomials?\n",
    "Numbers of the form $x+iy$, where $x$ and $y$ are any real numbers, are called *complex numbers*.\n",
    "\n",
    "Given a polynomial $$P(z)=a_nz^n + \\cdots + a_1z+a_0$$\n",
    "the complex numbers $z=x+iy$ for which $P(z)=0$ are called the *roots* (also known as *zeros*) of the polynomial.\n",
    "\n"
   ]
  },
  {
   "cell_type": "markdown",
   "metadata": {
    "slideshow": {
     "slide_type": "slide"
    }
   },
   "source": [
    "We wil use the numpy function \"roots\", which, given the coefficients $(a_n, \\cdots, a_1, a_0)$ of a polynomial $$P(z)=a_nz^n + \\cdots + a_1z+a_0$$ returns the complex numbers $z$ for which $P(z)=0$.\n",
    "\n",
    "We will demonstate in the following cells how to use Numpy and Matplotlib to visualize such zeros. First import the modules we need."
   ]
  },
  {
   "cell_type": "code",
   "execution_count": 8,
   "metadata": {
    "collapsed": false,
    "nbpresent": {
     "id": "1812fe9b-bad3-4108-95a8-1bf66364cfd9"
    },
    "slideshow": {
     "slide_type": "subslide"
    }
   },
   "outputs": [],
   "source": [
    "import numpy as np\n",
    "from matplotlib import pyplot as plt"
   ]
  },
  {
   "cell_type": "code",
   "execution_count": 9,
   "metadata": {
    "collapsed": false,
    "nbpresent": {
     "id": "4060d66f-0d7b-46a5-ac30-f7b5fca54c33"
    },
    "scrolled": true,
    "slideshow": {
     "slide_type": "slide"
    }
   },
   "outputs": [
    {
     "name": "stdout",
     "output_type": "stream",
     "text": [
      "Help on function roots in module numpy.lib.polynomial:\n",
      "\n",
      "roots(p)\n",
      "    Return the roots of a polynomial with coefficients given in p.\n",
      "    \n",
      "    The values in the rank-1 array `p` are coefficients of a polynomial.\n",
      "    If the length of `p` is n+1 then the polynomial is described by::\n",
      "    \n",
      "      p[0] * x**n + p[1] * x**(n-1) + ... + p[n-1]*x + p[n]\n",
      "    \n",
      "    Parameters\n",
      "    ----------\n",
      "    p : array_like\n",
      "        Rank-1 array of polynomial coefficients.\n",
      "    \n",
      "    Returns\n",
      "    -------\n",
      "    out : ndarray\n",
      "        An array containing the complex roots of the polynomial.\n",
      "    \n",
      "    Raises\n",
      "    ------\n",
      "    ValueError\n",
      "        When `p` cannot be converted to a rank-1 array.\n",
      "    \n",
      "    See also\n",
      "    --------\n",
      "    poly : Find the coefficients of a polynomial with a given sequence\n",
      "           of roots.\n",
      "    polyval : Compute polynomial values.\n",
      "    polyfit : Least squares polynomial fit.\n",
      "    poly1d : A one-dimensional polynomial class.\n",
      "    \n",
      "    Notes\n",
      "    -----\n",
      "    The algorithm relies on computing the eigenvalues of the\n",
      "    companion matrix [1]_.\n",
      "    \n",
      "    References\n",
      "    ----------\n",
      "    .. [1] R. A. Horn & C. R. Johnson, *Matrix Analysis*.  Cambridge, UK:\n",
      "        Cambridge University Press, 1999, pp. 146-7.\n",
      "    \n",
      "    Examples\n",
      "    --------\n",
      "    >>> coeff = [3.2, 2, 1]\n",
      "    >>> np.roots(coeff)\n",
      "    array([-0.3125+0.46351241j, -0.3125-0.46351241j])\n",
      "\n"
     ]
    }
   ],
   "source": [
    "help(np.roots)"
   ]
  },
  {
   "cell_type": "markdown",
   "metadata": {
    "collapsed": false,
    "slideshow": {
     "slide_type": "slide"
    }
   },
   "source": [
    "So what is $i$?"
   ]
  },
  {
   "cell_type": "markdown",
   "metadata": {
    "slideshow": {
     "slide_type": "subslide"
    }
   },
   "source": [
    "So what is  i? It is a zero of the polynomial\n",
    "$$P(z)=z^2+1$$\n",
    " \n",
    "That is,"
   ]
  },
  {
   "cell_type": "markdown",
   "metadata": {
    "slideshow": {
     "slide_type": "subslide"
    }
   },
   "source": [
    "$$ i^2 + 1 = 0$$\n"
   ]
  },
  {
   "cell_type": "markdown",
   "metadata": {
    "nbpresent": {
     "id": "24cae714-f23e-4e08-83ad-a5850275dc7d"
    },
    "slideshow": {
     "slide_type": "slide"
    }
   },
   "source": [
    "So, $i$ is a square root of $-1$, since\n",
    "$$i^2 = -1$$\n"
   ]
  },
  {
   "cell_type": "markdown",
   "metadata": {
    "slideshow": {
     "slide_type": "slide"
    }
   },
   "source": [
    "One plots complex numbers $z=x+iy$ as points $(x,y)$ in the $xy$-plane. \n",
    "\n",
    "The complex number $z=0+i1$ is denoted simply $i$.\n",
    "\n",
    "Let's plot the zeros of $$z^2+1=0$$"
   ]
  },
  {
   "cell_type": "code",
   "execution_count": 10,
   "metadata": {
    "collapsed": true,
    "nbpresent": {
     "id": "7f43b0cf-1b6b-4917-876f-c8443869fee8"
    },
    "slideshow": {
     "slide_type": "subslide"
    }
   },
   "outputs": [],
   "source": [
    "coeff = [1, 0, 1]"
   ]
  },
  {
   "cell_type": "code",
   "execution_count": 11,
   "metadata": {
    "collapsed": true,
    "slideshow": {
     "slide_type": "subslide"
    }
   },
   "outputs": [],
   "source": [
    "Solutions = np.roots([1,0,1])"
   ]
  },
  {
   "cell_type": "code",
   "execution_count": 12,
   "metadata": {
    "collapsed": false,
    "nbpresent": {
     "id": "83e860b5-04af-40b8-b5e3-3e13f4abf4f0"
    },
    "slideshow": {
     "slide_type": "slide"
    }
   },
   "outputs": [
    {
     "data": {
      "image/png": "[encoded data removed]",
      "text/plain": [
       "<matplotlib.figure.Figure at 0x1ad2eeae5f8>"
      ]
     },
     "metadata": {},
     "output_type": "display_data"
    }
   ],
   "source": [
    "plt.scatter(Solutions.real, Solutions.imag)\n",
    "plt.ylabel('Imaginary')\n",
    "plt.xlabel('Real')\n",
    "plt.axis('equal')\n",
    "plt.show()"
   ]
  },
  {
   "cell_type": "markdown",
   "metadata": {
    "slideshow": {
     "slide_type": "slide"
    }
   },
   "source": [
    "Now, you try plotting the zeros to the polynomial equation\n",
    "$$P(z)=z^{13} + 1$$\n",
    "\n",
    "in the cells below."
   ]
  },
  {
   "cell_type": "code",
   "execution_count": null,
   "metadata": {
    "collapsed": true,
    "nbpresent": {
     "id": "48dc6ed7-80f6-4257-9adb-bd9493ddb077"
    },
    "slideshow": {
     "slide_type": "subslide"
    }
   },
   "outputs": [],
   "source": []
  },
  {
   "cell_type": "code",
   "execution_count": null,
   "metadata": {
    "collapsed": true
   },
   "outputs": [],
   "source": []
  },
  {
   "cell_type": "code",
   "execution_count": null,
   "metadata": {
    "collapsed": false,
    "slideshow": {
     "slide_type": "slide"
    }
   },
   "outputs": [],
   "source": []
  },
  {
   "cell_type": "markdown",
   "metadata": {
    "slideshow": {
     "slide_type": "slide"
    }
   },
   "source": [
    "Interested in interacting with these images?\n",
    "\n",
    "\n",
    "Move on to the Bokeh workbook."
   ]
  }
 ],
 "metadata": {
  "anaconda-cloud": {},
  "kernelspec": {
   "display_name": "Python 3",
   "language": "python",
   "name": "python3"
  },
  "language_info": {
   "codemirror_mode": {
    "name": "ipython",
    "version": 3
   },
   "file_extension": ".py",
   "mimetype": "text/x-python",
   "name": "python",
   "nbconvert_exporter": "python",
   "pygments_lexer": "ipython3",
   "version": "3.5.2"
  },
  "nbpresent": {
   "slides": {
    "1800eb1d-7b10-4c40-9fc6-0cfde8e60699": {
     "id": "1800eb1d-7b10-4c40-9fc6-0cfde8e60699",
     "prev": "da0d72d3-522b-4ba5-8fbe-4da18a9ca23f",
     "regions": {
      "cbd2f0ce-0edd-4887-8c6b-239cacb2ad60": {
       "attrs": {
        "height": 0.8,
        "width": 0.8,
        "x": 0.1,
        "y": 0.1
       },
       "content": {
        "cell": "44826eea-cc66-4f95-840f-51616c084aba",
        "part": "whole"
       },
       "id": "cbd2f0ce-0edd-4887-8c6b-239cacb2ad60"
      }
     }
    },
    "357deb18-5600-474b-a651-c8f7429b19e1": {
     "id": "357deb18-5600-474b-a651-c8f7429b19e1",
     "prev": "a4226b1a-371f-41e9-a103-5686a3016b00",
     "regions": {
      "c9bb66d9-41ba-48dd-946d-77e06cf1b8df": {
       "attrs": {
        "height": 0.8,
        "width": 0.8,
        "x": 0.1,
        "y": 0.1
       },
       "content": {
        "cell": "83e860b5-04af-40b8-b5e3-3e13f4abf4f0",
        "part": "whole"
       },
       "id": "c9bb66d9-41ba-48dd-946d-77e06cf1b8df"
      }
     }
    },
    "397739bd-e7bc-4bae-8f0a-287e26032b12": {
     "id": "397739bd-e7bc-4bae-8f0a-287e26032b12",
     "prev": "72db5cba-5719-4135-96cf-1347fc6c0544",
     "regions": {
      "44bc0a10-0329-4bbd-96c5-3aa8ae939ed0": {
       "attrs": {
        "height": 0.8,
        "width": 0.8,
        "x": 0.1,
        "y": 0.1
       },
       "content": {
        "cell": "0b357bd9-da11-402e-8261-1ed8d492714d",
        "part": "whole"
       },
       "id": "44bc0a10-0329-4bbd-96c5-3aa8ae939ed0"
      }
     }
    },
    "41314013-e45a-4c3a-a9f4-9ed00e624428": {
     "id": "41314013-e45a-4c3a-a9f4-9ed00e624428",
     "prev": "b560000f-9095-47bc-9ba9-1bb01e0de7c5",
     "regions": {
      "eca2ac96-eaf3-46c1-93c4-9d698dbe4cb7": {
       "attrs": {
        "height": 0.8,
        "width": 0.8,
        "x": 0.1,
        "y": 0.1
       },
       "content": {
        "cell": "37345c32-d7b1-4ab1-9482-36f571184a44",
        "part": "whole"
       },
       "id": "eca2ac96-eaf3-46c1-93c4-9d698dbe4cb7"
      }
     }
    },
    "41c22617-1e67-4fae-9cac-d3e335c5977b": {
     "id": "41c22617-1e67-4fae-9cac-d3e335c5977b",
     "prev": "e899bc52-5a6b-4a57-8682-7b9450a03978",
     "regions": {
      "e8abb2b7-4c02-4129-b799-c88f3a534b36": {
       "attrs": {
        "height": 0.8,
        "width": 0.8,
        "x": 0.1,
        "y": 0.1
       },
       "content": {
        "cell": "72f53e10-903e-4190-8678-f3bb5c7b1c30",
        "part": "whole"
       },
       "id": "e8abb2b7-4c02-4129-b799-c88f3a534b36"
      }
     }
    },
    "47345527-bdeb-4f39-a853-fa9bb267a4e8": {
     "id": "47345527-bdeb-4f39-a853-fa9bb267a4e8",
     "prev": "55c2e32a-4cf6-4ef7-ab20-85dc2fd2a104",
     "regions": {
      "2e097694-4b19-4574-b11d-7df71a4ad8e7": {
       "attrs": {
        "height": 0.8,
        "width": 0.8,
        "x": 0.1,
        "y": 0.1
       },
       "content": {
        "cell": "1812fe9b-bad3-4108-95a8-1bf66364cfd9",
        "part": "whole"
       },
       "id": "2e097694-4b19-4574-b11d-7df71a4ad8e7"
      }
     }
    },
    "4d25b472-759c-420e-bc49-3c752182d97e": {
     "id": "4d25b472-759c-420e-bc49-3c752182d97e",
     "prev": "d3a10b76-89b8-48ee-8587-053c34b91190",
     "regions": {
      "4c7a5598-670b-4132-adfd-faeb662886e4": {
       "attrs": {
        "height": 0.8,
        "width": 0.8,
        "x": 0.1,
        "y": 0.1
       },
       "content": {
        "cell": "7bca56b8-5a92-480d-98b7-84bdbcb62a97",
        "part": "whole"
       },
       "id": "4c7a5598-670b-4132-adfd-faeb662886e4"
      }
     }
    },
    "55c2e32a-4cf6-4ef7-ab20-85dc2fd2a104": {
     "id": "55c2e32a-4cf6-4ef7-ab20-85dc2fd2a104",
     "prev": "acf4002b-6014-4422-8b37-8a05958cec1a",
     "regions": {
      "c469f8b0-ff30-4c1c-8846-5077f840862c": {
       "attrs": {
        "height": 0.8,
        "width": 0.8,
        "x": 0.1,
        "y": 0.1
       },
       "content": {
        "cell": "3e45de2d-701f-4ff3-9336-43ef48fccf4e",
        "part": "whole"
       },
       "id": "c469f8b0-ff30-4c1c-8846-5077f840862c"
      }
     }
    },
    "648d0bf4-be28-4b63-a3a1-d26fe1119296": {
     "id": "648d0bf4-be28-4b63-a3a1-d26fe1119296",
     "prev": "f0cbf073-8d5a-4eaa-9148-169c1b03aaf8",
     "regions": {
      "aba6626a-ac05-4d78-a99c-bc86c7a134f3": {
       "attrs": {
        "height": 0.8,
        "width": 0.8,
        "x": 0.1,
        "y": 0.1
       },
       "content": {
        "cell": "575dc084-56d1-47ad-ada0-03ca85f2b55f",
        "part": "whole"
       },
       "id": "aba6626a-ac05-4d78-a99c-bc86c7a134f3"
      }
     }
    },
    "72db5cba-5719-4135-96cf-1347fc6c0544": {
     "id": "72db5cba-5719-4135-96cf-1347fc6c0544",
     "prev": "648d0bf4-be28-4b63-a3a1-d26fe1119296",
     "regions": {
      "b2f0c8d4-006a-4d9d-9cc8-96ee5bcb56c2": {
       "attrs": {
        "height": 0.8,
        "width": 0.8,
        "x": 0.1,
        "y": 0.1
       },
       "content": {
        "cell": "6eb8eb29-241f-4e93-9bbf-00396c7f0bea",
        "part": "whole"
       },
       "id": "b2f0c8d4-006a-4d9d-9cc8-96ee5bcb56c2"
      }
     }
    },
    "80f56667-2896-4e9a-ad80-eb3f85162ffe": {
     "id": "80f56667-2896-4e9a-ad80-eb3f85162ffe",
     "prev": "47345527-bdeb-4f39-a853-fa9bb267a4e8",
     "regions": {
      "4ab113b5-163c-439a-a810-a74e708bc49c": {
       "attrs": {
        "height": 0.8,
        "width": 0.8,
        "x": 0.1,
        "y": 0.1
       },
       "content": {
        "cell": "4060d66f-0d7b-46a5-ac30-f7b5fca54c33",
        "part": "whole"
       },
       "id": "4ab113b5-163c-439a-a810-a74e708bc49c"
      }
     }
    },
    "a4226b1a-371f-41e9-a103-5686a3016b00": {
     "id": "a4226b1a-371f-41e9-a103-5686a3016b00",
     "prev": "ba2fc530-b3ff-452b-bbf8-a4b600a68640",
     "regions": {
      "23e25b09-9f3d-42d5-827a-1ffeffeb2ac8": {
       "attrs": {
        "height": 0.8,
        "width": 0.8,
        "x": 0.1,
        "y": 0.1
       },
       "content": {
        "cell": "48dc6ed7-80f6-4257-9adb-bd9493ddb077",
        "part": "whole"
       },
       "id": "23e25b09-9f3d-42d5-827a-1ffeffeb2ac8"
      }
     }
    },
    "acf4002b-6014-4422-8b37-8a05958cec1a": {
     "id": "acf4002b-6014-4422-8b37-8a05958cec1a",
     "prev": "41c22617-1e67-4fae-9cac-d3e335c5977b",
     "regions": {
      "4bd4bf3a-23b1-415b-9ab7-a8c5df5c8c21": {
       "attrs": {
        "height": 0.8,
        "width": 0.8,
        "x": 0.1,
        "y": 0.1
       },
       "content": {
        "cell": "b9d1d516-c60d-4bf0-abad-a467032b57c9",
        "part": "whole"
       },
       "id": "4bd4bf3a-23b1-415b-9ab7-a8c5df5c8c21"
      }
     }
    },
    "b560000f-9095-47bc-9ba9-1bb01e0de7c5": {
     "id": "b560000f-9095-47bc-9ba9-1bb01e0de7c5",
     "prev": "357deb18-5600-474b-a651-c8f7429b19e1",
     "regions": {
      "6c61daa5-98bf-48e0-ae4e-eda5ea0a3690": {
       "attrs": {
        "height": 0.8,
        "width": 0.8,
        "x": 0.1,
        "y": 0.1
       },
       "content": {
        "cell": "d90bcd04-22df-4bc4-a61a-150e151630e1",
        "part": "whole"
       },
       "id": "6c61daa5-98bf-48e0-ae4e-eda5ea0a3690"
      }
     }
    },
    "ba2fc530-b3ff-452b-bbf8-a4b600a68640": {
     "id": "ba2fc530-b3ff-452b-bbf8-a4b600a68640",
     "prev": "ea129474-3a32-4490-b0be-865b2a870b1a",
     "regions": {
      "092dd4fd-3dcc-4924-985c-becb1286eba0": {
       "attrs": {
        "height": 0.8,
        "width": 0.8,
        "x": 0.1,
        "y": 0.1
       },
       "content": {
        "cell": "7f43b0cf-1b6b-4917-876f-c8443869fee8",
        "part": "whole"
       },
       "id": "092dd4fd-3dcc-4924-985c-becb1286eba0"
      },
      "91922e67-f3bf-42bb-a044-278bc78f66b3": {
       "attrs": {
        "height": 0.4,
        "width": 0.8,
        "x": 0.1,
        "y": 0.5
       },
       "content": {
        "cell": "bcf5d910-81c7-4155-86e7-1da59ed34332",
        "part": "whole"
       },
       "id": "91922e67-f3bf-42bb-a044-278bc78f66b3"
      },
      "91aeb177-83c2-4831-a420-387981ac63a6": {
       "attrs": {
        "height": 0.4,
        "width": 0.8,
        "x": 0.1,
        "y": 0.5
       },
       "content": {
        "cell": "24cae714-f23e-4e08-83ad-a5850275dc7d",
        "part": "whole"
       },
       "id": "91aeb177-83c2-4831-a420-387981ac63a6"
      }
     }
    },
    "bf627589-d6c1-4f62-aba5-7b5714dfb077": {
     "id": "bf627589-d6c1-4f62-aba5-7b5714dfb077",
     "prev": "4d25b472-759c-420e-bc49-3c752182d97e",
     "regions": {
      "5186ef79-5308-42cb-bcfb-d65a0d82950a": {
       "attrs": {
        "height": 0.8,
        "width": 0.8,
        "x": 0.1,
        "y": 0.1
       },
       "content": {
        "cell": "d5e29eed-6dfd-4a30-9cfe-a0f812743403",
        "part": "whole"
       },
       "id": "5186ef79-5308-42cb-bcfb-d65a0d82950a"
      }
     }
    },
    "d3a10b76-89b8-48ee-8587-053c34b91190": {
     "id": "d3a10b76-89b8-48ee-8587-053c34b91190",
     "prev": "1800eb1d-7b10-4c40-9fc6-0cfde8e60699",
     "regions": {
      "2212617b-c6ae-42db-a615-a18eca12835a": {
       "attrs": {
        "height": 0.8,
        "width": 0.8,
        "x": 0.1,
        "y": 0.1
       },
       "content": {
        "cell": "fd13435d-96be-41d4-9de9-07548faf7f89",
        "part": "whole"
       },
       "id": "2212617b-c6ae-42db-a615-a18eca12835a"
      }
     }
    },
    "da0d72d3-522b-4ba5-8fbe-4da18a9ca23f": {
     "id": "da0d72d3-522b-4ba5-8fbe-4da18a9ca23f",
     "prev": "41314013-e45a-4c3a-a9f4-9ed00e624428",
     "regions": {
      "aab7d91f-bd75-4fdc-8035-880939c798bb": {
       "attrs": {
        "height": 0.8,
        "width": 0.8,
        "x": 0.1,
        "y": 0.1
       },
       "content": {
        "cell": "228f5880-4919-4266-9fb8-4b488840efde",
        "part": "whole"
       },
       "id": "aab7d91f-bd75-4fdc-8035-880939c798bb"
      }
     }
    },
    "e899bc52-5a6b-4a57-8682-7b9450a03978": {
     "id": "e899bc52-5a6b-4a57-8682-7b9450a03978",
     "prev": "397739bd-e7bc-4bae-8f0a-287e26032b12",
     "regions": {
      "54dd0ef5-184f-40a2-9a95-cf5ad8a54707": {
       "attrs": {
        "height": 0.8,
        "width": 0.8,
        "x": 0.1,
        "y": 0.1
       },
       "content": {
        "cell": "e3197990-d3f8-4c9a-a1e8-8077a66b1c65",
        "part": "whole"
       },
       "id": "54dd0ef5-184f-40a2-9a95-cf5ad8a54707"
      }
     }
    },
    "ea129474-3a32-4490-b0be-865b2a870b1a": {
     "id": "ea129474-3a32-4490-b0be-865b2a870b1a",
     "prev": "80f56667-2896-4e9a-ad80-eb3f85162ffe",
     "regions": {
      "8b749206-6309-4291-9f49-722e786ebc7a": {
       "attrs": {
        "height": 0.8,
        "width": 0.8,
        "x": 0.1,
        "y": 0.1
       },
       "content": {
        "cell": "d5ae1497-fc60-4e08-8705-36d5a8cc476f",
        "part": "whole"
       },
       "id": "8b749206-6309-4291-9f49-722e786ebc7a"
      }
     }
    },
    "f0cbf073-8d5a-4eaa-9148-169c1b03aaf8": {
     "id": "f0cbf073-8d5a-4eaa-9148-169c1b03aaf8",
     "prev": null,
     "regions": {
      "76dac414-774d-4d59-83de-54c99e5cc7c8": {
       "attrs": {
        "height": 0.8,
        "width": 0.8,
        "x": 0.1,
        "y": 0.1
       },
       "content": {
        "cell": "d748bbf8-0c78-4ebd-af0a-f4de0b1b37b3",
        "part": "whole"
       },
       "id": "76dac414-774d-4d59-83de-54c99e5cc7c8"
      }
     }
    }
   },
   "themes": {
    "default": "cc030932-d39d-4ef3-803a-8923673a7384",
    "theme": {
     "cc030932-d39d-4ef3-803a-8923673a7384": {
      "id": "cc030932-d39d-4ef3-803a-8923673a7384",
      "palette": {
       "19cc588f-0593-49c9-9f4b-e4d7cc113b1c": {
        "id": "19cc588f-0593-49c9-9f4b-e4d7cc113b1c",
        "rgb": [
         252,
         252,
         252
        ]
       },
       "31af15d2-7e15-44c5-ab5e-e04b16a89eff": {
        "id": "31af15d2-7e15-44c5-ab5e-e04b16a89eff",
        "rgb": [
         68,
         68,
         68
        ]
       },
       "50f92c45-a630-455b-aec3-788680ec7410": {
        "id": "50f92c45-a630-455b-aec3-788680ec7410",
        "rgb": [
         155,
         177,
         192
        ]
       },
       "c5cc3653-2ee1-402a-aba2-7caae1da4f6c": {
        "id": "c5cc3653-2ee1-402a-aba2-7caae1da4f6c",
        "rgb": [
         43,
         126,
         184
        ]
       },
       "efa7f048-9acb-414c-8b04-a26811511a21": {
        "id": "efa7f048-9acb-414c-8b04-a26811511a21",
        "rgb": [
         25.118061674008803,
         73.60176211453744,
         107.4819383259912
        ]
       }
      },
      "rules": {
       "blockquote": {
        "color": "50f92c45-a630-455b-aec3-788680ec7410"
       },
       "code": {
        "font-family": "Anonymous Pro"
       },
       "h1": {
        "color": "c5cc3653-2ee1-402a-aba2-7caae1da4f6c",
        "font-family": "Lato",
        "font-size": 8
       },
       "h2": {
        "color": "c5cc3653-2ee1-402a-aba2-7caae1da4f6c",
        "font-family": "Lato",
        "font-size": 6
       },
       "h3": {
        "color": "50f92c45-a630-455b-aec3-788680ec7410",
        "font-family": "Lato",
        "font-size": 5.5
       },
       "h4": {
        "color": "c5cc3653-2ee1-402a-aba2-7caae1da4f6c",
        "font-family": "Lato",
        "font-size": 5
       },
       "h5": {
        "font-family": "Lato"
       },
       "h6": {
        "font-family": "Lato"
       },
       "h7": {
        "font-family": "Lato"
       },
       "pre": {
        "font-family": "Anonymous Pro",
        "font-size": 4
       }
      },
      "text-base": {
       "font-family": "Merriweather",
       "font-size": 4
      }
     }
    }
   }
  }
 },
 "nbformat": 4,
 "nbformat_minor": 0
}
