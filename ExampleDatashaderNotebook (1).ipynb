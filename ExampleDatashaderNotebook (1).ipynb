{
 "cells": [
  {
   "cell_type": "markdown",
   "metadata": {
    "slideshow": {
     "slide_type": "slide"
    }
   },
   "source": [
    "# Example Datashader Notebook\n",
    "\n",
    "In this workbook, some cells are left blank for you to complete."
   ]
  },
  {
   "cell_type": "markdown",
   "metadata": {
    "slideshow": {
     "slide_type": "slide"
    }
   },
   "source": [
    "In the image of the original paper, there are nearly a **million** points to be displayed (983,041). \n",
    "\n",
    "If you try to use Matplotlib or Bokeh to display them, the notebook will timeout before the image displays as it would take so long.\n",
    "\n",
    "Here we will show how to use the (relatively) new Datashader module to recreate it."
   ]
  },
  {
   "cell_type": "markdown",
   "metadata": {
    "slideshow": {
     "slide_type": "slide"
    }
   },
   "source": [
    "To see how to use python's native Image module to recreate the image from the paper, see\n",
    "\n",
    "https://jeremyallenjacobson.github.io/ZerosReproduction/PoonenOdlyzkoZerosFigureReproducedPython.html"
   ]
  },
  {
   "cell_type": "markdown",
   "metadata": {
    "collapsed": false,
    "slideshow": {
     "slide_type": "slide"
    }
   },
   "source": [
    "As we are interested in recreating the image of the paper, first we create a list of all possible coefficients $(a_n, \\cdots, a_1, 1)$ of polynomials of the form\n",
    "$$P(z)=a_nz^n+\\cdots + a_1z + 1 $$\n",
    "where $n\\leq 16$ and $a_i\\in\\{0,1\\}$\n",
    "We use **pdmax** to indicate maximum degree (16)."
   ]
  },
  {
   "cell_type": "code",
   "execution_count": null,
   "metadata": {
    "collapsed": false,
    "slideshow": {
     "slide_type": "slide"
    }
   },
   "outputs": [],
   "source": [
    "from itertools import product"
   ]
  },
  {
   "cell_type": "code",
   "execution_count": null,
   "metadata": {
    "collapsed": false,
    "slideshow": {
     "slide_type": "subslide"
    }
   },
   "outputs": [],
   "source": [
    "pdmax = 16\n",
    "coefficientsLessEqual16 = list(product(range(2), repeat = pdmax ))\n",
    "for k in range(len(coefficientsLessEqual16)):\n",
    "    coefficientsLessEqual16[k] = coefficientsLessEqual16[k] + tuple([1])"
   ]
  },
  {
   "cell_type": "code",
   "execution_count": null,
   "metadata": {
    "collapsed": false,
    "slideshow": {
     "slide_type": "slide"
    }
   },
   "outputs": [],
   "source": [
    "coefficientsLessEqual16"
   ]
  },
  {
   "cell_type": "code",
   "execution_count": null,
   "metadata": {
    "collapsed": false
   },
   "outputs": [],
   "source": [
    "import numpy as np\n",
    "import pandas as pd"
   ]
  },
  {
   "cell_type": "code",
   "execution_count": null,
   "metadata": {
    "collapsed": false
   },
   "outputs": [],
   "source": [
    "def CreateZeros(coefficients):\n",
    "    zeros = []\n",
    "    for j in range(len(coefficients)):\n",
    "        roots = np.roots(coefficients[j])\n",
    "        for k in range(len(roots)):\n",
    "            x = roots[k].real\n",
    "            y = roots[k].imag\n",
    "            zeros.append((x,y))\n",
    "    labels = ['real', 'imaginary']\n",
    "    df = pd.DataFrame.from_records(zeros, columns=labels)\n",
    "    return df"
   ]
  },
  {
   "cell_type": "markdown",
   "metadata": {},
   "source": [
    "Next we create out dataframe of zeros using the function above and we time the runtime with **%time**"
   ]
  },
  {
   "cell_type": "code",
   "execution_count": null,
   "metadata": {
    "collapsed": false
   },
   "outputs": [],
   "source": [
    "%time ZerosLessEqual16 = CreateZeros(coefficientsLessEqual16)"
   ]
  },
  {
   "cell_type": "markdown",
   "metadata": {},
   "source": [
    "To display the dataframe, run the cell below. The leftmost column shows the indexing. In particular, one finds how many zeros there are (983041)."
   ]
  },
  {
   "cell_type": "code",
   "execution_count": null,
   "metadata": {
    "collapsed": false
   },
   "outputs": [],
   "source": [
    "ZerosLessEqual16"
   ]
  },
  {
   "cell_type": "markdown",
   "metadata": {},
   "source": [
    "The following cell imports datashader and other necessary modules. Datashader is capable of displaying a million points quickly in part because, the image you see is divided into \"bins\", and datashader \"bins\" the actual points based on some **reduction** specified. "
   ]
  },
  {
   "cell_type": "code",
   "execution_count": null,
   "metadata": {
    "collapsed": false
   },
   "outputs": [],
   "source": [
    "import datashader as ds\n",
    "import datashader.transfer_functions as tf"
   ]
  },
  {
   "cell_type": "markdown",
   "metadata": {},
   "source": [
    "In the code below, **ds.Canvas().points(dataframe goes here)** creates a \"canvas\", and the function **tf.shade()** essentially colors/shades it according to a default."
   ]
  },
  {
   "cell_type": "code",
   "execution_count": null,
   "metadata": {
    "collapsed": false
   },
   "outputs": [],
   "source": [
    "%time tf.shade(ds.Canvas().points(ZerosLessEqual16, 'real', 'imaginary'))"
   ]
  },
  {
   "cell_type": "markdown",
   "metadata": {},
   "source": [
    "Finally, thanks to the Bokeh extension of datashader called **InteractiveImage** it is possible to use work interactively with millions of points."
   ]
  },
  {
   "cell_type": "code",
   "execution_count": null,
   "metadata": {
    "collapsed": false
   },
   "outputs": [],
   "source": [
    "import bokeh.plotting as bp\n",
    "from datashader.bokeh_ext import InteractiveImage\n",
    "bp.output_notebook()"
   ]
  },
  {
   "cell_type": "code",
   "execution_count": null,
   "metadata": {
    "collapsed": false
   },
   "outputs": [],
   "source": [
    "p = bp.figure(tools='pan,wheel_zoom,reset', x_range=(-1.5,1.5), y_range=(-1.5,1.5))\n",
    "\n",
    "def image_callback(x_range, y_range, w, h):\n",
    "    cvs = ds.Canvas(plot_width=w, plot_height=h, x_range=x_range, y_range=y_range)\n",
    "    agg = cvs.points(ZerosLessEqual16, 'real', 'imaginary')\n",
    "    img = tf.shade(agg)\n",
    "    return tf.spread(img)\n",
    "\n",
    "InteractiveImage(p, image_callback)"
   ]
  },
  {
   "cell_type": "markdown",
   "metadata": {
    "collapsed": true
   },
   "source": [
    "Now you try. Create a new list of coefficients of degree less than or equal to 17. "
   ]
  },
  {
   "cell_type": "code",
   "execution_count": null,
   "metadata": {
    "collapsed": true
   },
   "outputs": [],
   "source": []
  },
  {
   "cell_type": "markdown",
   "metadata": {},
   "source": [
    "Then create the dataframe of zeros."
   ]
  },
  {
   "cell_type": "code",
   "execution_count": null,
   "metadata": {
    "collapsed": true
   },
   "outputs": [],
   "source": []
  },
  {
   "cell_type": "markdown",
   "metadata": {},
   "source": [
    "Finally, create the interactive plot."
   ]
  },
  {
   "cell_type": "code",
   "execution_count": null,
   "metadata": {
    "collapsed": true
   },
   "outputs": [],
   "source": []
  }
 ],
 "metadata": {
  "anaconda-cloud": {},
  "celltoolbar": "Slideshow",
  "kernelspec": {
   "display_name": "Python [conda env:py36]",
   "language": "python",
   "name": "conda-env-py36-py"
  },
  "language_info": {
   "codemirror_mode": {
    "name": "ipython",
    "version": 3
   },
   "file_extension": ".py",
   "mimetype": "text/x-python",
   "name": "python",
   "nbconvert_exporter": "python",
   "pygments_lexer": "ipython3",
   "version": "3.6.0"
  }
 },
 "nbformat": 4,
 "nbformat_minor": 0
}
